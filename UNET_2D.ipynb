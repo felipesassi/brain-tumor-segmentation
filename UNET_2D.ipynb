{
 "cells": [
  {
   "cell_type": "markdown",
   "metadata": {},
   "source": [
    "# Importação das bibliotecas necessárias"
   ]
  },
  {
   "cell_type": "code",
   "execution_count": 1,
   "metadata": {},
   "outputs": [],
   "source": [
    "import os\n",
    "import h5py\n",
    "import numpy as np\n",
    "import matplotlib.pyplot as plt\n",
    "import pandas as pd\n",
    "import torch\n",
    "import torch.nn as nn\n",
    "from torch.utils.data import Dataset, DataLoader\n",
    "import torch.optim as optim\n",
    "import torch.nn.functional as F\n",
    "from sklearn.utils import shuffle\n",
    "from tqdm.notebook import tqdm_notebook\n",
    "import mlflow\n",
    "from mlflow import log_metric, log_param, log_artifact\n",
    "from mlflow.pytorch import log_model\n",
    "import nibabel as nib\n",
    "from sklearn.utils import shuffle\n",
    "from tensorflow.keras.backend import one_hot"
   ]
  },
  {
   "cell_type": "markdown",
   "metadata": {},
   "source": [
    "# Criação das rotinas de leitura de dados"
   ]
  },
  {
   "cell_type": "code",
   "execution_count": null,
   "metadata": {},
   "outputs": [],
   "source": [
    "def generate_train_files():\n",
    "    from sklearn.utils import shuffle\n",
    "    TRAIN_DIR = \"/home/felipe-sassi/Code/BRATS_DATA_OFFICIAL/Data_Train/MICCAI_BraTS2020_TrainingData/\"\n",
    "    files = os.listdir(TRAIN_DIR)\n",
    "    name_list = []\n",
    "    for file in files:\n",
    "        if (not (file.endswith(\".csv\"))):\n",
    "            dir_temp = TRAIN_DIR + file\n",
    "            files_inside = os.listdir(dir_temp)\n",
    "            for i in files_inside:\n",
    "                if i.split(\"_\")[-1] in [\"flair.nii.gz\"]:\n",
    "                    for j in range(155):\n",
    "                        dir_final = dir_temp + \"/\" + i + \"=\" + str(j)\n",
    "                        name_list.append(dir_final)                    \n",
    "    return name_list"
   ]
  },
  {
   "cell_type": "code",
   "execution_count": null,
   "metadata": {},
   "outputs": [],
   "source": [
    "files = generate_train_files()"
   ]
  },
  {
   "cell_type": "code",
   "execution_count": null,
   "metadata": {},
   "outputs": [],
   "source": [
    "class DataSaver(Dataset):\n",
    "    def __init__(self, files):\n",
    "        self.data = files\n",
    "        self.x_filenames = []\n",
    "        self.volumes = []\n",
    "        self.y_filenames = []\n",
    "        self.slice = []\n",
    "        \n",
    "    def __len__(self):\n",
    "        return len(self.data)\n",
    "\n",
    "    def save(self):\n",
    "        for e, dir in enumerate(tqdm_notebook(self.data)):\n",
    "            dir, slice = dir.split(\"=\")\n",
    "            slice = int(slice)\n",
    "            file = dir.split(\"/\")[-2].split(\"_\")[-1]\n",
    "            dir_seg  = '/home/felipe-sassi/Code/BRATS_DATA_OFFICIAL/Data_Train/MICCAI_BraTS2020_TrainingData/BraTS20_Training_{}/BraTS20_Training_{}_seg.nii.gz' .format(file, file)\n",
    "            x = nib.load(dir).get_fdata()[:, :, slice]\n",
    "            x = (x - x.mean())/(x.std() + 1e-6)\n",
    "            y = nib.load(dir_seg).get_fdata()[:, :, slice]\n",
    "            y[y == 4] = 3\n",
    "            y = one_hot(y, 4).numpy().transpose(2, 0, 1)\n",
    "            save_dir = '/home/felipe-sassi/Code/BRATS_DATA_OFFICIAL/Data_Train_NPY/X/{}' .format(e)\n",
    "            np.save(save_dir, x)\n",
    "            save_dir = '/home/felipe-sassi/Code/BRATS_DATA_OFFICIAL/Data_Train_NPY/Y/{}' .format(e)\n",
    "            np.save(save_dir, y[1:])\n",
    "            self.x_filenames.append(e)\n",
    "            self.y_filenames.append(e)\n",
    "            self.volumes.append(file)       \n",
    "            self.slice.append(slice)\n",
    "        data = {\"X\": self.x_filenames, \"Y\": self.y_filenames, \"VOLUME\": self.volumes, \"SLICE\": self.slice}\n",
    "        df = pd.DataFrame(data)\n",
    "        save_dir = '/home/felipe-sassi/Code/BRATS_DATA_OFFICIAL/Data_Train_NPY/DATA.CSV'\n",
    "        df.to_csv(save_dir, index = False)"
   ]
  },
  {
   "cell_type": "code",
   "execution_count": null,
   "metadata": {},
   "outputs": [],
   "source": [
    "class DataSaverValidation(Dataset):\n",
    "    def __init__(self, files):\n",
    "        self.data = files\n",
    "        self.x_filenames = []\n",
    "        self.volumes = []\n",
    "        self.y_filenames = []\n",
    "        self.slice = []\n",
    "        \n",
    "    def __len__(self):\n",
    "        return len(self.data)\n",
    "\n",
    "    def save(self):\n",
    "        for e, dir in enumerate(tqdm_notebook(self.data)):\n",
    "            dir, slice = dir.split(\"=\")\n",
    "            slice = int(slice)\n",
    "            file = dir.split(\"/\")[-2].split(\"_\")[-1]\n",
    "            dir_seg  = '/home/felipe-sassi/Code/BRATS_DATA_OFFICIAL/Data_Validation/MICCAI_BraTS2020_ValidationData/BraTS20_Validation_{}/BraTS20_Validation_{}_seg.nii.gz' .format(file, file)\n",
    "            x = nib.load(dir).get_fdata()[:, :, slice]\n",
    "            x = (x - x.mean())/(x.std() + 1e-6)\n",
    "#             y = nib.load(dir_seg).get_fdata()[:, :, slice]\n",
    "#             y[y == 4] = 3\n",
    "#             y = one_hot(y, 4).numpy().transpose(2, 0, 1)\n",
    "            save_dir = '/home/felipe-sassi/Code/BRATS_DATA_OFFICIAL/Data_Validation_NPY/X/{}' .format(e)\n",
    "            np.save(save_dir, x)\n",
    "#             save_dir = '/home/felipe-sassi/Code/BRATS_DATA_OFFICIAL/Data_Validation_NPY/Y/{}' .format(e)\n",
    "#             np.save(save_dir, y[1:])\n",
    "            self.x_filenames.append(e)\n",
    "#             self.y_filenames.append(e)\n",
    "            self.volumes.append(file)       \n",
    "            self.slice.append(slice)\n",
    "        data = {\"X\": self.x_filenames, \"VOLUME\": self.volumes, \"SLICE\": self.slice}\n",
    "        df = pd.DataFrame(data)\n",
    "        save_dir = '/home/felipe-sassi/Code/BRATS_DATA_OFFICIAL/Data_Validation_NPY/DATA.CSV'\n",
    "        df.to_csv(save_dir, index = False)"
   ]
  },
  {
   "cell_type": "code",
   "execution_count": null,
   "metadata": {},
   "outputs": [],
   "source": [
    "def generate_train_files():\n",
    "    from sklearn.utils import shuffle\n",
    "    TRAIN_DIR = \"/home/felipe-sassi/Code/BRATS_DATA_OFFICIAL/Data_Validation/MICCAI_BraTS2020_ValidationData/\"\n",
    "    files = os.listdir(TRAIN_DIR)\n",
    "    name_list = []\n",
    "    for file in files:\n",
    "        if (not (file.endswith(\".csv\"))):\n",
    "            dir_temp = TRAIN_DIR + file\n",
    "            files_inside = os.listdir(dir_temp)\n",
    "            for i in files_inside:\n",
    "                if i.split(\"_\")[-1] in [\"flair.nii.gz\"]:\n",
    "                    for j in range(155):\n",
    "                        dir_final = dir_temp + \"/\" + i + \"=\" + str(j)\n",
    "                        name_list.append(dir_final)                    \n",
    "    return name_list"
   ]
  },
  {
   "cell_type": "code",
   "execution_count": null,
   "metadata": {},
   "outputs": [],
   "source": [
    "files = generate_train_files()"
   ]
  },
  {
   "cell_type": "code",
   "execution_count": null,
   "metadata": {},
   "outputs": [],
   "source": [
    "Saver = DataSaverValidation(files)"
   ]
  },
  {
   "cell_type": "code",
   "execution_count": null,
   "metadata": {},
   "outputs": [],
   "source": [
    "Saver.save()"
   ]
  },
  {
   "cell_type": "code",
   "execution_count": null,
   "metadata": {},
   "outputs": [],
   "source": [
    "import shutil"
   ]
  },
  {
   "cell_type": "code",
   "execution_count": null,
   "metadata": {},
   "outputs": [],
   "source": [
    "shutil.move('/home/felipe-sassi/Code/BRATS_DATA_OFFICIAL/Data_Train_NPY/DATA.CSV', '../../../data')"
   ]
  },
  {
   "cell_type": "code",
   "execution_count": null,
   "metadata": {},
   "outputs": [],
   "source": [
    "shutil.move('/home/felipe-sassi/Code/BRATS_DATA_OFFICIAL/Data_Train_NPY/', '../../../data')"
   ]
  },
  {
   "cell_type": "code",
   "execution_count": 2,
   "metadata": {},
   "outputs": [],
   "source": [
    "df = pd.read_csv('../../../data/DATA.CSV')"
   ]
  },
  {
   "cell_type": "code",
   "execution_count": 3,
   "metadata": {},
   "outputs": [],
   "source": [
    "def train_test_split(dataframe):\n",
    "    idx = np.arange(0, 370)\n",
    "    idx = shuffle(idx, random_state = 0)\n",
    "    idx_train = idx[0:277]\n",
    "    idx_test = idx[277:]\n",
    "    dataframe[\"TRAIN\"] = dataframe[\"VOLUME\"].apply(lambda x: x in idx_train)\n",
    "    dataframe[\"TEST\"] = dataframe[\"VOLUME\"].apply(lambda x: x in idx_test)\n",
    "    dataframe_train = dataframe[dataframe[\"TRAIN\"] == True].reset_index(drop = True)\n",
    "    dataframe_test = dataframe[dataframe[\"TEST\"] == True].reset_index(drop = True)                           \n",
    "    return shuffle(dataframe_train, random_state = 0).reset_index(drop = True), shuffle(dataframe_test, random_state = 0).reset_index(drop = True)"
   ]
  },
  {
   "cell_type": "code",
   "execution_count": 4,
   "metadata": {},
   "outputs": [],
   "source": [
    "df_train, df_test = train_test_split(df)"
   ]
  },
  {
   "cell_type": "code",
   "execution_count": 233,
   "metadata": {},
   "outputs": [],
   "source": [
    "import albumentations as A"
   ]
  },
  {
   "cell_type": "code",
   "execution_count": 280,
   "metadata": {},
   "outputs": [
    {
     "name": "stderr",
     "output_type": "stream",
     "text": [
      "/home/felipe-sassi/anaconda3/lib/python3.8/site-packages/albumentations/augmentations/transforms.py:2453: DeprecationWarning: This class has been deprecated. Please use RandomBrightnessContrast\n",
      "  warnings.warn(\"This class has been deprecated. Please use RandomBrightnessContrast\", DeprecationWarning)\n"
     ]
    }
   ],
   "source": [
    "transform_train = A.Compose([\n",
    "        A.Rotate((-20, 20)),\n",
    "        A.RandomBrightness(),\n",
    "        A.HorizontalFlip(),\n",
    "        A.VerticalFlip(),\n",
    "        A.ElasticTransform(720, 50),\n",
    "        A.Normalize(0, 1),\n",
    "], p=1)\n"
   ]
  },
  {
   "cell_type": "code",
   "execution_count": 281,
   "metadata": {},
   "outputs": [],
   "source": [
    "transform_val = A.Compose([\n",
    "        A.Normalize(0, 1),\n",
    "], p=1)\n"
   ]
  },
  {
   "cell_type": "code",
   "execution_count": 477,
   "metadata": {},
   "outputs": [],
   "source": [
    "class MRI_Dataloader(Dataset):\n",
    "    def __init__(self, files, transform):\n",
    "        self.data = files\n",
    "        self.transform = transform\n",
    "        \n",
    "    def __len__(self):\n",
    "        return self.data.shape[0]\n",
    "\n",
    "    def __getitem__(self, idx):\n",
    "#         x_dir = '/home/felipe-sassi/Code/BRATS_DATA_OFFICIAL/Data_Train_NPY/X/{}.npy' .format(self.data[\"X\"].values[idx])\n",
    "        x_dir = '/data/Data_Train_NPY/X/{}.npy' .format(self.data[\"X\"].values[idx])\n",
    "        y_dir = '/data/Data_Train_NPY/Y/{}.npy' .format(self.data[\"Y\"].values[idx])\n",
    "        x = np.load(x_dir)\n",
    "        y = np.load(y_dir)\n",
    "        y = y[0] + y[1] + y[2]\n",
    "        y[y >= 1] = 1\n",
    "#         if self.transform == None:\n",
    "#             processed_data  = self.transform_val(image = x, mask = y)\n",
    "#             x = (255*(x - x.min())/(x.max() - x.min()) + 1e-6).astype(np.uint8)\n",
    "#             x = torch.tensor(processed_data[\"image\"]).unsqueeze(dim = 0).float()\n",
    "#             return x, torch.tensor(y).unsqueeze(dim = 0).float()\n",
    "\n",
    "        y = (y).astype(np.uint8)\n",
    "#         x = (255*(x - x.min())/(x.max() - x.min() + 1e-6)).astype(np.uint8)\n",
    "        x = (x).astype(np.float32)\n",
    "\n",
    "        processed_data  = self.transform(image = x, mask = y)\n",
    "        return torch.tensor(processed_data[\"image\"]).unsqueeze(dim = 0).float(), torch.tensor(processed_data[\"mask\"]).unsqueeze(dim = 0).float()\n",
    "    \n"
   ]
  },
  {
   "cell_type": "code",
   "execution_count": 388,
   "metadata": {},
   "outputs": [],
   "source": [
    "a, b =MRI_Dataloader(df_train, transform).__getitem__(100)"
   ]
  },
  {
   "cell_type": "code",
   "execution_count": 288,
   "metadata": {},
   "outputs": [
    {
     "data": {
      "text/plain": [
       "tensor(0.)"
      ]
     },
     "execution_count": 288,
     "metadata": {},
     "output_type": "execute_result"
    }
   ],
   "source": [
    "a[0].min()"
   ]
  },
  {
   "cell_type": "code",
   "execution_count": 308,
   "metadata": {},
   "outputs": [
    {
     "data": {
      "text/plain": [
       "tensor(255.)"
      ]
     },
     "execution_count": 308,
     "metadata": {},
     "output_type": "execute_result"
    }
   ],
   "source": [
    "b[0].max()"
   ]
  },
  {
   "cell_type": "code",
   "execution_count": 403,
   "metadata": {},
   "outputs": [
    {
     "data": {
      "text/plain": [
       "tensor(1.)"
      ]
     },
     "execution_count": 403,
     "metadata": {},
     "output_type": "execute_result"
    }
   ],
   "source": [
    "b[0].max()"
   ]
  },
  {
   "cell_type": "code",
   "execution_count": 401,
   "metadata": {},
   "outputs": [
    {
     "data": {
      "image/png": "[encoded data removed]",
      "text/plain": [
       "<Figure size 432x288 with 1 Axes>"
      ]
     },
     "metadata": {
      "needs_background": "light"
     },
     "output_type": "display_data"
    },
    {
     "data": {
      "text/plain": [
       "<matplotlib.image.AxesImage at 0x7fc733770bb0>"
      ]
     },
     "execution_count": 401,
     "metadata": {},
     "output_type": "execute_result"
    },
    {
     "data": {
      "image/png": "[encoded data removed]",
      "text/plain": [
       "<Figure size 432x288 with 1 Axes>"
      ]
     },
     "metadata": {
      "needs_background": "light"
     },
     "output_type": "display_data"
    }
   ],
   "source": [
    "a, b =MRI_Dataloader(df_train, transform_train).__getitem__(90)\n",
    "plt.imshow(a[0])\n",
    "plt.show()\n",
    "plt.imshow(b[0])"
   ]
  },
  {
   "cell_type": "markdown",
   "metadata": {},
   "source": [
    "# Funções para manipulação dos dados"
   ]
  },
  {
   "cell_type": "markdown",
   "metadata": {},
   "source": [
    "# Métricas"
   ]
  },
  {
   "cell_type": "markdown",
   "metadata": {},
   "source": [
    "## Dice"
   ]
  },
  {
   "cell_type": "code",
   "execution_count": 6,
   "metadata": {},
   "outputs": [],
   "source": [
    "def dice_metric(y_true, y_predicted, thr=0.5):\n",
    "    \n",
    "#     assert len(y_true.shape) == 4\n",
    "#     assert len(y_predicted.shape) == 4\n",
    "    assert y_true.shape == y_predicted.shape\n",
    "    try:\n",
    "        y_true = y_true.clone()\n",
    "        y_predicted = y_predicted.clone()\n",
    "        batch_size = y_true.shape[0]\n",
    "        y_true = y_true.contiguous().view(-1) \n",
    "        y_predicted = y_predicted.contiguous().view(-1)\n",
    "\n",
    "        y_predicted[y_predicted < thr] = 0\n",
    "        y_predicted[y_predicted >= thr] = 1 \n",
    "\n",
    "        mult = 2*torch.sum(y_true*y_predicted)\n",
    "        sum_1 = torch.sum(y_true)\n",
    "        sum_2 = torch.sum(y_predicted)\n",
    "        dice = mult/(sum_1 + sum_2 + 1e-6)\n",
    "        return torch.mean(dice), torch.mean(dice, dim = 0)\n",
    "    except:\n",
    "        batch_size = y_true.shape[0]\n",
    "        y_true = y_true.reshape(-1)\n",
    "        y_predicted = y_predicted.reshape(-1)\n",
    "\n",
    "        y_predicted[y_predicted < thr] = 0\n",
    "        y_predicted[y_predicted >= thr] = 1 \n",
    "\n",
    "        mult = 2*np.sum(y_true*y_predicted)\n",
    "        sum_1 = np.sum(y_true)\n",
    "        sum_2 = np.sum(y_predicted)\n",
    "        dice = mult/(sum_1 + sum_2 + 1e-6)\n",
    "        return np.mean(dice)"
   ]
  },
  {
   "cell_type": "code",
   "execution_count": 7,
   "metadata": {},
   "outputs": [],
   "source": [
    "def soft_dice(y_true, y_predicted):\n",
    "    \n",
    "    assert len(y_true.shape) == 4\n",
    "    assert len(y_predicted.shape) == 4\n",
    "    assert y_true.shape == y_predicted.shape\n",
    "    y_true = y_true.clone()\n",
    "    y_predicted = y_predicted.clone()\n",
    "    dim_1 = y_true.shape[0]\n",
    "    y_true = y_true.contiguous().view(-1)\n",
    "    y_predicted = y_predicted.contiguous().view(-1)\n",
    "    mult = 2*torch.sum(y_true*y_predicted)\n",
    "    sum_1 = torch.sum(torch.pow(y_true, 2))\n",
    "    sum_2 = torch.sum(torch.pow(y_predicted, 2))\n",
    "    dice = (mult + 1)/(sum_1 + sum_2 + 1)    \n",
    "    return dice"
   ]
  },
  {
   "cell_type": "markdown",
   "metadata": {},
   "source": [
    "# Modelo"
   ]
  },
  {
   "cell_type": "code",
   "execution_count": 424,
   "metadata": {},
   "outputs": [],
   "source": [
    "%%capture\n",
    "UNet = torch.hub.load('mateuszbuda/brain-segmentation-pytorch', 'unet',\n",
    "                      in_channels = 1, \n",
    "                      out_channels = 1, \n",
    "                      init_features = 32, \n",
    "                      pretrained = False).to(\"cuda:0\")"
   ]
  },
  {
   "cell_type": "code",
   "execution_count": 313,
   "metadata": {},
   "outputs": [
    {
     "data": {
      "text/plain": [
       "93.0"
      ]
     },
     "execution_count": 313,
     "metadata": {},
     "output_type": "execute_result"
    }
   ],
   "source": [
    "df_test.shape[0]/155"
   ]
  },
  {
   "cell_type": "markdown",
   "metadata": {},
   "source": [
    "# Treinamento"
   ]
  },
  {
   "cell_type": "markdown",
   "metadata": {},
   "source": [
    "## Primeiro experimento"
   ]
  },
  {
   "cell_type": "code",
   "execution_count": 9,
   "metadata": {},
   "outputs": [],
   "source": [
    "mlflow.set_tracking_uri(\"/home/felipe-sassi/mlruns\")"
   ]
  },
  {
   "cell_type": "code",
   "execution_count": 353,
   "metadata": {},
   "outputs": [
    {
     "data": {
      "text/plain": [
       "<matplotlib.image.AxesImage at 0x7fc7342c2280>"
      ]
     },
     "execution_count": 353,
     "metadata": {},
     "output_type": "execute_result"
    },
    {
     "data": {
      "image/png": "[encoded data removed]",
      "text/plain": [
       "<Figure size 432x288 with 1 Axes>"
      ]
     },
     "metadata": {
      "needs_background": "light"
     },
     "output_type": "display_data"
    }
   ],
   "source": [
    "plt.imshow(yt_list_values[49][0])"
   ]
  },
  {
   "cell_type": "code",
   "execution_count": 354,
   "metadata": {},
   "outputs": [
    {
     "data": {
      "text/plain": [
       "<matplotlib.image.AxesImage at 0x7fc734143d00>"
      ]
     },
     "execution_count": 354,
     "metadata": {},
     "output_type": "execute_result"
    },
    {
     "data": {
      "image/png": "[encoded data removed]",
      "text/plain": [
       "<Figure size 432x288 with 1 Axes>"
      ]
     },
     "metadata": {
      "needs_background": "light"
     },
     "output_type": "display_data"
    }
   ],
   "source": [
    "plt.imshow(y_list_values[49][0])"
   ]
  },
  {
   "cell_type": "code",
   "execution_count": 355,
   "metadata": {},
   "outputs": [
    {
     "data": {
      "text/plain": [
       "<matplotlib.image.AxesImage at 0x7fc73464d490>"
      ]
     },
     "execution_count": 355,
     "metadata": {},
     "output_type": "execute_result"
    },
    {
     "data": {
      "image/png": "[encoded data removed]",
      "text/plain": [
       "<Figure size 432x288 with 1 Axes>"
      ]
     },
     "metadata": {
      "needs_background": "light"
     },
     "output_type": "display_data"
    }
   ],
   "source": [
    "plt.imshow(x_list_values[49][0])"
   ]
  },
  {
   "cell_type": "code",
   "execution_count": 348,
   "metadata": {},
   "outputs": [
    {
     "data": {
      "text/plain": [
       "<matplotlib.image.AxesImage at 0x7fc7348f5e50>"
      ]
     },
     "execution_count": 348,
     "metadata": {},
     "output_type": "execute_result"
    },
    {
     "data": {
      "image/png": "[encoded data removed]",
      "text/plain": [
       "<Figure size 432x288 with 1 Axes>"
      ]
     },
     "metadata": {
      "needs_background": "light"
     },
     "output_type": "display_data"
    }
   ],
   "source": [
    "plt.imshow(y_list_values[60][0])"
   ]
  },
  {
   "cell_type": "code",
   "execution_count": 423,
   "metadata": {},
   "outputs": [
    {
     "data": {
      "text/plain": [
       "<matplotlib.image.AxesImage at 0x7fc7332132b0>"
      ]
     },
     "execution_count": 423,
     "metadata": {},
     "output_type": "execute_result"
    },
    {
     "data": {
      "image/png": "[encoded data removed]",
      "text/plain": [
       "<Figure size 432x288 with 1 Axes>"
      ]
     },
     "metadata": {
      "needs_background": "light"
     },
     "output_type": "display_data"
    }
   ],
   "source": [
    "plt.imshow(x[6, 0].cpu().detach())"
   ]
  },
  {
   "cell_type": "code",
   "execution_count": 421,
   "metadata": {},
   "outputs": [
    {
     "data": {
      "text/plain": [
       "<matplotlib.image.AxesImage at 0x7fc733276940>"
      ]
     },
     "execution_count": 421,
     "metadata": {},
     "output_type": "execute_result"
    },
    {
     "data": {
      "image/png": "[encoded data removed]",
      "text/plain": [
       "<Figure size 432x288 with 1 Axes>"
      ]
     },
     "metadata": {
      "needs_background": "light"
     },
     "output_type": "display_data"
    }
   ],
   "source": [
    "plt.imshow(y[6, 0].cpu().detach())"
   ]
  },
  {
   "cell_type": "code",
   "execution_count": 380,
   "metadata": {},
   "outputs": [
    {
     "data": {
      "text/plain": [
       "tensor(0., device='cuda:0')"
      ]
     },
     "execution_count": 380,
     "metadata": {},
     "output_type": "execute_result"
    }
   ],
   "source": [
    "y.min()"
   ]
  },
  {
   "cell_type": "code",
   "execution_count": 422,
   "metadata": {},
   "outputs": [
    {
     "data": {
      "text/plain": [
       "<matplotlib.image.AxesImage at 0x7fc73322ce20>"
      ]
     },
     "execution_count": 422,
     "metadata": {},
     "output_type": "execute_result"
    },
    {
     "data": {
      "image/png": "[encoded data removed]",
      "text/plain": [
       "<Figure size 432x288 with 1 Axes>"
      ]
     },
     "metadata": {
      "needs_background": "light"
     },
     "output_type": "display_data"
    }
   ],
   "source": [
    "plt.imshow(y_predicted[6, 0].cpu().detach())"
   ]
  },
  {
   "cell_type": "code",
   "execution_count": null,
   "metadata": {
    "scrolled": true
   },
   "outputs": [
    {
     "name": "stdout",
     "output_type": "stream",
     "text": [
      "Start training for 10 epochs.\n"
     ]
    },
    {
     "data": {
      "application/vnd.jupyter.widget-view+json": {
       "model_id": "65ca835383b443e78afeadccec4d8e76",
       "version_major": 2,
       "version_minor": 0
      },
      "text/plain": [
       "HBox(children=(FloatProgress(value=0.0, max=2829.0), HTML(value='')))"
      ]
     },
     "metadata": {},
     "output_type": "display_data"
    },
    {
     "name": "stdout",
     "output_type": "stream",
     "text": [
      "Validation results\n"
     ]
    },
    {
     "data": {
      "application/vnd.jupyter.widget-view+json": {
       "model_id": "2676af614bea4afb97f4804cea887967",
       "version_major": 2,
       "version_minor": 0
      },
      "text/plain": [
       "HBox(children=(FloatProgress(value=0.0, max=93.0), HTML(value='')))"
      ]
     },
     "metadata": {},
     "output_type": "display_data"
    },
    {
     "name": "stdout",
     "output_type": "stream",
     "text": [
      "\n",
      "Dice metric: 0.646824131660889\n",
      "Validation results\n"
     ]
    },
    {
     "data": {
      "application/vnd.jupyter.widget-view+json": {
       "model_id": "92652d9f2a5f4bda85eb2f21373d7ce9",
       "version_major": 2,
       "version_minor": 0
      },
      "text/plain": [
       "HBox(children=(FloatProgress(value=0.0, max=93.0), HTML(value='')))"
      ]
     },
     "metadata": {},
     "output_type": "display_data"
    },
    {
     "name": "stdout",
     "output_type": "stream",
     "text": [
      "\n",
      "Dice metric: 0.6885809978925448\n",
      "\n",
      "Loss: 0.27241893441613557\n"
     ]
    },
    {
     "data": {
      "application/vnd.jupyter.widget-view+json": {
       "model_id": "e8caac54d8a946fa9a86709b9f5ce95f",
       "version_major": 2,
       "version_minor": 0
      },
      "text/plain": [
       "HBox(children=(FloatProgress(value=0.0, max=276.0), HTML(value='')))"
      ]
     },
     "metadata": {},
     "output_type": "display_data"
    },
    {
     "name": "stdout",
     "output_type": "stream",
     "text": [
      "\n",
      "Dice metric: 0.6577077048459269\n",
      "Validation results\n"
     ]
    },
    {
     "data": {
      "application/vnd.jupyter.widget-view+json": {
       "model_id": "5b44bbe0f43f4d5fb0c01b1123bec0c8",
       "version_major": 2,
       "version_minor": 0
      },
      "text/plain": [
       "HBox(children=(FloatProgress(value=0.0, max=93.0), HTML(value='')))"
      ]
     },
     "metadata": {},
     "output_type": "display_data"
    },
    {
     "name": "stdout",
     "output_type": "stream",
     "text": [
      "\n",
      "Dice metric: 0.693014397065841\n"
     ]
    },
    {
     "data": {
      "application/vnd.jupyter.widget-view+json": {
       "model_id": "c555622c7a354067ac75589334fea3f4",
       "version_major": 2,
       "version_minor": 0
      },
      "text/plain": [
       "HBox(children=(FloatProgress(value=0.0, max=2829.0), HTML(value='')))"
      ]
     },
     "metadata": {},
     "output_type": "display_data"
    }
   ],
   "source": [
    "df_train_temp = df_train[(df_train[\"SLICE\"] > 15) & (df_train[\"SLICE\"] < 139)]\n",
    "Data_Train = DataLoader(MRI_Dataloader(df_train_temp, transform_train), \n",
    "                  batch_size = 12)\n",
    "Epochs = 10\n",
    "lr = 1e-4\n",
    "Optimizer = optim.Adam(UNet.parameters(), lr = lr)\n",
    "patience = 3\n",
    "factor = 0.1\n",
    "threshold = 0.01\n",
    "LR_Scheduler = optim.lr_scheduler.ReduceLROnPlateau(Optimizer, patience = patience, threshold = threshold)\n",
    "print(f\"Start training for {Epochs} epochs.\")\n",
    "Loss = nn.BCELoss()\n",
    "with mlflow.start_run(): \n",
    "    log_param(\"Model\", \"U-Net\")\n",
    "    log_param(\"Data Aug\", \"False\")\n",
    "    log_param(\"Init Features\", 32)\n",
    "    log_param(\"Pretrained\", \"False\")\n",
    "    log_param(\"Total Epochs\", Epochs)\n",
    "    log_param(\"Learning Rate\", lr)\n",
    "    log_param(\"Loss\", \"Dice Loss\")\n",
    "    log_param(\"Metric\", \"Dice\")\n",
    "    log_param(\"Optimizer\", \"Adam\")\n",
    "    log_param(\"Batch Size Train\", 12)\n",
    "    log_param('Slices', '15 - 139')\n",
    "    log_param(\"Learning Rate Scheduler\", \"Reduce LR on Plateau\")\n",
    "    log_param(\"Learning Rate Scheduler Patience\", patience)\n",
    "    log_param(\"Learning Rate Scheduler Monitor\", \"Validation Loss\")\n",
    "    log_param(\"Learning Rate Scheduler Threshold\", threshold)\n",
    "    log_param(\"Factor\", factor)\n",
    "    log_model(UNet, \"Models Original\")\n",
    "    salvar = np.zeros((10, 123, 240, 240))\n",
    "    salvar1 = np.zeros((10, 123, 240, 240))\n",
    "    \n",
    "    internal_counter = 0\n",
    "    internal_counter_1 = 0\n",
    "    for e in range(Epochs):\n",
    "        Total_Loss_Train = 0\n",
    "#         Total_Loss = 0\n",
    "        Dice_Score = 0\n",
    "        Dice_Score_Channel = np.zeros(1)\n",
    "        \n",
    "        for x, y in tqdm_notebook(Data_Train):\n",
    "            x, y = x.to(\"cuda:0\"), y.to(\"cuda:0\")\n",
    "            Optimizer.zero_grad()\n",
    "            y_predicted = UNet(x)\n",
    "#             Loss_Value = 1 - soft_dice(y_predicted, y)[0]\n",
    "            Loss_Value = 1 - soft_dice(y_predicted, y)\n",
    "#             Loss_Value = Loss(y_predicted, y)\n",
    "            Loss_Value.backward()\n",
    "            Optimizer.step()\n",
    "            Total_Loss_Train = Total_Loss_Train + Loss_Value.item()       \n",
    "            internal_counter = internal_counter + 1\n",
    "            if (internal_counter % 1414 == 0):  \n",
    "                print(\"Validation results\")\n",
    "                dice = 0\n",
    "                Total_Loss = 0\n",
    "                for kk in tqdm_notebook(df_test[\"VOLUME\"].unique()):\n",
    "                    df_test_temp = df_test[(df_test[\"VOLUME\"] == kk) & (df_test[\"SLICE\"] > 15) & (df_test[\"SLICE\"] < 139)].reset_index(drop = True)        \n",
    "                    x_list_values = np.zeros((123, 1, 240, 240))\n",
    "                    y_list_values = np.zeros((123, 1, 240, 240))\n",
    "                    yt_list_values = np.zeros((123, 1, 240, 240))\n",
    "                    for j in range(123):\n",
    "                        df_test_temp_1 = df_test_temp[df_test_temp[\"SLICE\"] == j + 16].reset_index(drop = True)\n",
    "                        Data_Test_Temp = DataLoader(MRI_Dataloader(df_test_temp_1, transform_val), batch_size = 1)\n",
    "                        for x, y in Data_Test_Temp:\n",
    "                            x, y = x.to(\"cuda:0\"), y.to(\"cuda:0\")\n",
    "                            y_predicted = UNet(x)\n",
    "                            Loss_Value = 1 - soft_dice(y_predicted, y)\n",
    "#                             Loss_Value = Loss(y_predicted, y)\n",
    "                            Total_Loss = Total_Loss + Loss_Value.item()       \n",
    "                        x_list_values[j] = x.cpu().numpy()\n",
    "                        y_list_values[j] = y.cpu().numpy()\n",
    "                        yt_list_values[j] = y_predicted.detach().cpu().numpy()\n",
    "                    dice = dice + dice_metric(y_list_values, yt_list_values)\n",
    "                print(\"Dice metric:\", dice/93)\n",
    "                log_metric(\"Loss Validation - 4X\", Total_Loss/df_test.shape[0], step = internal_counter_1)\n",
    "                log_metric(\"Dice Validation Mean - 4X\", dice/93, step = internal_counter_1)                \n",
    "                internal_counter_1 = internal_counter_1 + 1   \n",
    "        print(\"Loss:\", 12*Total_Loss_Train/df_train.shape[0])\n",
    "        dice = 0\n",
    "        for count, kk in enumerate(tqdm_notebook(df_train[\"VOLUME\"].unique())):\n",
    "            df_train_temp = df_train[(df_train[\"VOLUME\"] == kk) & (df_train[\"SLICE\"] > 15) & (df_train[\"SLICE\"] < 139)].reset_index(drop = True)\n",
    "            x_list_values = np.zeros((123, 1, 240, 240))\n",
    "            y_list_values = np.zeros((123, 1, 240, 240))\n",
    "            yt_list_values = np.zeros((123, 1, 240, 240))\n",
    "            for j in range(123):\n",
    "                df_train_temp_1 = df_train_temp[df_train_temp[\"SLICE\"] == j + 16].reset_index(drop = True)\n",
    "                Data_Train_Temp = DataLoader(MRI_Dataloader(df_train_temp_1, transform_train), batch_size = 1)\n",
    "                for x, y in Data_Train_Temp:\n",
    "                    x, y = x.to(\"cuda:0\"), y.to(\"cuda:0\")\n",
    "                    y_predicted = UNet(x)\n",
    "                x_list_values[j] = x.cpu().numpy()\n",
    "                y_list_values[j] = y.cpu().numpy()\n",
    "                yt_list_values[j] = y_predicted.detach().cpu().numpy()\n",
    "                if count < 10:\n",
    "                    salvar[count, j] = y_predicted.detach().cpu().numpy()\n",
    "                    salvar1[count, j] = y.cpu().numpy()\n",
    "            dice = dice + dice_metric(y_list_values, yt_list_values)\n",
    "        print(\"Dice metric:\", dice/276)\n",
    "        Total_Loss = 12*Total_Loss_Train/df_train.shape[0]\n",
    "        log_metric(\"Loss Train\", Total_Loss, step = e)\n",
    "        log_metric(\"Dice Train Mean\", dice/276, step = e)                \n",
    "        print(\"Validation results\")\n",
    "        dice = 0\n",
    "        Total_Loss = 0\n",
    "        for kk in tqdm_notebook(df_test[\"VOLUME\"].unique()):\n",
    "            df_test_temp = df_test[(df_test[\"VOLUME\"] == kk) & (df_test[\"SLICE\"] > 15) & (df_test[\"SLICE\"] < 139)].reset_index(drop = True)\n",
    "            x_list_values = np.zeros((123, 1, 240, 240))\n",
    "            y_list_values = np.zeros((123, 1, 240, 240))\n",
    "            yt_list_values = np.zeros((123, 1, 240, 240))\n",
    "            for j in range(123):\n",
    "                df_test_temp_1 = df_test_temp[df_test_temp[\"SLICE\"] == j + 16].reset_index(drop = True)\n",
    "                Data_Test_Temp = DataLoader(MRI_Dataloader(df_test_temp_1, transform_val), batch_size = 1)\n",
    "                for x, y in Data_Test_Temp:\n",
    "                    x, y = x.to(\"cuda:0\"), y.to(\"cuda:0\")\n",
    "                    y_predicted = UNet(x)\n",
    "                    Loss_Value = 1 - soft_dice(y_predicted, y)\n",
    "#                     Loss_Value = Loss(y_predi cted, y)\n",
    "                    Total_Loss = Total_Loss + Loss_Value.item()       \n",
    "                x_list_values[j] = x.cpu().numpy()\n",
    "                y_list_values[j] = y.cpu().numpy()\n",
    "                yt_list_values[j] = y_predicted.detach().cpu().numpy()\n",
    "            dice = dice + dice_metric(y_list_values, yt_list_values)\n",
    "        print(\"Dice metric:\", dice/93)\n",
    "        log_metric(\"Loss Validation\", Total_Loss/df_test.shape[0], step = e)\n",
    "        log_metric(\"Dice Validation Mean\", dice/93, step = e)                \n",
    "        LR_Scheduler.step(Total_Loss)    \n",
    "        for i in Optimizer.param_groups:\n",
    "            lr_s = i[\"lr\"]\n",
    "        log_metric(\"Learning Rate\", lr_s, step = e)  \n",
    "    log_model(UNet, \"Models Trained\")"
   ]
  },
  {
   "cell_type": "code",
   "execution_count": 521,
   "metadata": {},
   "outputs": [],
   "source": [
    " %%capture\n",
    "UNet = torch.hub.load('mateuszbuda/brain-segmentation-pytorch', 'unet',\n",
    "                      in_channels = 1, \n",
    "                      out_channels = 1, \n",
    "                      init_features = 32, \n",
    "                      pretrained = False).to(\"cuda:0\")"
   ]
  },
  {
   "cell_type": "code",
   "execution_count": 520,
   "metadata": {},
   "outputs": [],
   "source": [
    "transform_train = A.Compose([\n",
    "        A.Rotate((-20, 20)),\n",
    "        A.RandomBrightness(),\n",
    "        A.HorizontalFlip(),\n",
    "        A.VerticalFlip(),\n",
    "        A.Normalize(0, 1),\n",
    "], p=1)\n"
   ]
  },
  {
   "cell_type": "code",
   "execution_count": 522,
   "metadata": {},
   "outputs": [
    {
     "name": "stdout",
     "output_type": "stream",
     "text": [
      "Start training for 10 epochs.\n"
     ]
    },
    {
     "data": {
      "application/vnd.jupyter.widget-view+json": {
       "model_id": "3d4979f087194ed8aa4a7474263efb25",
       "version_major": 2,
       "version_minor": 0
      },
      "text/plain": [
       "HBox(children=(FloatProgress(value=0.0, max=2829.0), HTML(value='')))"
      ]
     },
     "metadata": {},
     "output_type": "display_data"
    },
    {
     "name": "stdout",
     "output_type": "stream",
     "text": [
      "Validation results\n"
     ]
    },
    {
     "data": {
      "application/vnd.jupyter.widget-view+json": {
       "model_id": "dfd703fd2d5346b48d7120f66053722e",
       "version_major": 2,
       "version_minor": 0
      },
      "text/plain": [
       "HBox(children=(FloatProgress(value=0.0, max=93.0), HTML(value='')))"
      ]
     },
     "metadata": {},
     "output_type": "display_data"
    },
    {
     "name": "stdout",
     "output_type": "stream",
     "text": [
      "\n",
      "Dice metric: 0.46786829666553076\n",
      "Validation results\n"
     ]
    },
    {
     "data": {
      "application/vnd.jupyter.widget-view+json": {
       "model_id": "94c2903a22714dd2a7aed514d4779621",
       "version_major": 2,
       "version_minor": 0
      },
      "text/plain": [
       "HBox(children=(FloatProgress(value=0.0, max=93.0), HTML(value='')))"
      ]
     },
     "metadata": {},
     "output_type": "display_data"
    },
    {
     "name": "stdout",
     "output_type": "stream",
     "text": [
      "\n",
      "Dice metric: 0.5763943825125211\n",
      "\n",
      "Loss: 0.44482742542973075\n"
     ]
    },
    {
     "data": {
      "application/vnd.jupyter.widget-view+json": {
       "model_id": "39888bad66f341ee856071d032ab0a02",
       "version_major": 2,
       "version_minor": 0
      },
      "text/plain": [
       "HBox(children=(FloatProgress(value=0.0, max=276.0), HTML(value='')))"
      ]
     },
     "metadata": {},
     "output_type": "display_data"
    },
    {
     "name": "stdout",
     "output_type": "stream",
     "text": [
      "\n",
      "Dice metric: 0.456082653225795\n",
      "Validation results\n"
     ]
    },
    {
     "data": {
      "application/vnd.jupyter.widget-view+json": {
       "model_id": "71100e9b529b4c75a5b6025c590dc110",
       "version_major": 2,
       "version_minor": 0
      },
      "text/plain": [
       "HBox(children=(FloatProgress(value=0.0, max=93.0), HTML(value='')))"
      ]
     },
     "metadata": {},
     "output_type": "display_data"
    },
    {
     "name": "stdout",
     "output_type": "stream",
     "text": [
      "\n",
      "Dice metric: 0.582450978303823\n"
     ]
    },
    {
     "data": {
      "application/vnd.jupyter.widget-view+json": {
       "model_id": "7bd9e0748514469fb67bd3ebe1023975",
       "version_major": 2,
       "version_minor": 0
      },
      "text/plain": [
       "HBox(children=(FloatProgress(value=0.0, max=2829.0), HTML(value='')))"
      ]
     },
     "metadata": {},
     "output_type": "display_data"
    },
    {
     "name": "stdout",
     "output_type": "stream",
     "text": [
      "Validation results\n"
     ]
    },
    {
     "data": {
      "application/vnd.jupyter.widget-view+json": {
       "model_id": "a3b450c7e9d24111b2e12c099c853515",
       "version_major": 2,
       "version_minor": 0
      },
      "text/plain": [
       "HBox(children=(FloatProgress(value=0.0, max=93.0), HTML(value='')))"
      ]
     },
     "metadata": {},
     "output_type": "display_data"
    },
    {
     "name": "stdout",
     "output_type": "stream",
     "text": [
      "\n",
      "Dice metric: 0.5964158803874984\n",
      "Validation results\n"
     ]
    },
    {
     "data": {
      "application/vnd.jupyter.widget-view+json": {
       "model_id": "1c9f503c4b4046308e4768606d494584",
       "version_major": 2,
       "version_minor": 0
      },
      "text/plain": [
       "HBox(children=(FloatProgress(value=0.0, max=93.0), HTML(value='')))"
      ]
     },
     "metadata": {},
     "output_type": "display_data"
    },
    {
     "name": "stdout",
     "output_type": "stream",
     "text": [
      "\n",
      "Dice metric: 0.6032399641734997\n",
      "\n",
      "Loss: 0.22489787940390482\n"
     ]
    },
    {
     "data": {
      "application/vnd.jupyter.widget-view+json": {
       "model_id": "af42e1d640e94476b85d54f6236b8389",
       "version_major": 2,
       "version_minor": 0
      },
      "text/plain": [
       "HBox(children=(FloatProgress(value=0.0, max=276.0), HTML(value='')))"
      ]
     },
     "metadata": {},
     "output_type": "display_data"
    },
    {
     "name": "stdout",
     "output_type": "stream",
     "text": [
      "\n",
      "Dice metric: 0.5028031809450103\n",
      "Validation results\n"
     ]
    },
    {
     "data": {
      "application/vnd.jupyter.widget-view+json": {
       "model_id": "ddc689abbbde48a892e857b8fd895463",
       "version_major": 2,
       "version_minor": 0
      },
      "text/plain": [
       "HBox(children=(FloatProgress(value=0.0, max=93.0), HTML(value='')))"
      ]
     },
     "metadata": {},
     "output_type": "display_data"
    },
    {
     "name": "stdout",
     "output_type": "stream",
     "text": [
      "\n",
      "Dice metric: 0.6173750864328547\n"
     ]
    },
    {
     "data": {
      "application/vnd.jupyter.widget-view+json": {
       "model_id": "af8b6cb1902e462cba14fb09e219957c",
       "version_major": 2,
       "version_minor": 0
      },
      "text/plain": [
       "HBox(children=(FloatProgress(value=0.0, max=2829.0), HTML(value='')))"
      ]
     },
     "metadata": {},
     "output_type": "display_data"
    },
    {
     "name": "stdout",
     "output_type": "stream",
     "text": [
      "Validation results\n"
     ]
    },
    {
     "data": {
      "application/vnd.jupyter.widget-view+json": {
       "model_id": "022aff0f963d4da8b12985c0a44134b1",
       "version_major": 2,
       "version_minor": 0
      },
      "text/plain": [
       "HBox(children=(FloatProgress(value=0.0, max=93.0), HTML(value='')))"
      ]
     },
     "metadata": {},
     "output_type": "display_data"
    },
    {
     "name": "stdout",
     "output_type": "stream",
     "text": [
      "\n",
      "Dice metric: 0.7688105196611544\n",
      "Validation results\n"
     ]
    },
    {
     "data": {
      "application/vnd.jupyter.widget-view+json": {
       "model_id": "70d2daf82b3742f4bb23e8ff60ee323d",
       "version_major": 2,
       "version_minor": 0
      },
      "text/plain": [
       "HBox(children=(FloatProgress(value=0.0, max=93.0), HTML(value='')))"
      ]
     },
     "metadata": {},
     "output_type": "display_data"
    },
    {
     "name": "stdout",
     "output_type": "stream",
     "text": [
      "\n",
      "Dice metric: 0.7469972430830883\n",
      "\n",
      "Loss: 0.20798956022021814\n"
     ]
    },
    {
     "data": {
      "application/vnd.jupyter.widget-view+json": {
       "model_id": "4ec344dd8dea45d1bbebf8ab1ee0535b",
       "version_major": 2,
       "version_minor": 0
      },
      "text/plain": [
       "HBox(children=(FloatProgress(value=0.0, max=276.0), HTML(value='')))"
      ]
     },
     "metadata": {},
     "output_type": "display_data"
    },
    {
     "name": "stdout",
     "output_type": "stream",
     "text": [
      "\n",
      "Dice metric: 0.5900606931481671\n",
      "Validation results\n"
     ]
    },
    {
     "data": {
      "application/vnd.jupyter.widget-view+json": {
       "model_id": "212c601f6bc543739bd063c90bb6eed0",
       "version_major": 2,
       "version_minor": 0
      },
      "text/plain": [
       "HBox(children=(FloatProgress(value=0.0, max=93.0), HTML(value='')))"
      ]
     },
     "metadata": {},
     "output_type": "display_data"
    },
    {
     "name": "stdout",
     "output_type": "stream",
     "text": [
      "\n",
      "Dice metric: 0.7607088657377663\n"
     ]
    },
    {
     "data": {
      "application/vnd.jupyter.widget-view+json": {
       "model_id": "d828f96715684b85be2559bafd304630",
       "version_major": 2,
       "version_minor": 0
      },
      "text/plain": [
       "HBox(children=(FloatProgress(value=0.0, max=2829.0), HTML(value='')))"
      ]
     },
     "metadata": {},
     "output_type": "display_data"
    },
    {
     "name": "stdout",
     "output_type": "stream",
     "text": [
      "Validation results\n"
     ]
    },
    {
     "data": {
      "application/vnd.jupyter.widget-view+json": {
       "model_id": "1493687e28cd4b7aad590f1b574b3489",
       "version_major": 2,
       "version_minor": 0
      },
      "text/plain": [
       "HBox(children=(FloatProgress(value=0.0, max=93.0), HTML(value='')))"
      ]
     },
     "metadata": {},
     "output_type": "display_data"
    },
    {
     "name": "stdout",
     "output_type": "stream",
     "text": [
      "\n",
      "Dice metric: 0.7777455837271068\n",
      "Validation results\n"
     ]
    },
    {
     "data": {
      "application/vnd.jupyter.widget-view+json": {
       "model_id": "80e96b31f2bf4814b53b43d21cd918bc",
       "version_major": 2,
       "version_minor": 0
      },
      "text/plain": [
       "HBox(children=(FloatProgress(value=0.0, max=93.0), HTML(value='')))"
      ]
     },
     "metadata": {},
     "output_type": "display_data"
    },
    {
     "name": "stdout",
     "output_type": "stream",
     "text": [
      "\n",
      "Dice metric: 0.7709740719002212\n",
      "\n",
      "Loss: 0.1981213825113476\n"
     ]
    },
    {
     "data": {
      "application/vnd.jupyter.widget-view+json": {
       "model_id": "992df4b9cbd540ae9e3be8e9dba95d2b",
       "version_major": 2,
       "version_minor": 0
      },
      "text/plain": [
       "HBox(children=(FloatProgress(value=0.0, max=276.0), HTML(value='')))"
      ]
     },
     "metadata": {},
     "output_type": "display_data"
    },
    {
     "name": "stdout",
     "output_type": "stream",
     "text": [
      "\n",
      "Dice metric: 0.6344240991850807\n",
      "Validation results\n"
     ]
    },
    {
     "data": {
      "application/vnd.jupyter.widget-view+json": {
       "model_id": "14e54af23b69427a97aeab5711fd1a6d",
       "version_major": 2,
       "version_minor": 0
      },
      "text/plain": [
       "HBox(children=(FloatProgress(value=0.0, max=93.0), HTML(value='')))"
      ]
     },
     "metadata": {},
     "output_type": "display_data"
    },
    {
     "name": "stdout",
     "output_type": "stream",
     "text": [
      "\n",
      "Dice metric: 0.7860235917064302\n"
     ]
    },
    {
     "data": {
      "application/vnd.jupyter.widget-view+json": {
       "model_id": "a11790babb464679834e9e136fd92482",
       "version_major": 2,
       "version_minor": 0
      },
      "text/plain": [
       "HBox(children=(FloatProgress(value=0.0, max=2829.0), HTML(value='')))"
      ]
     },
     "metadata": {},
     "output_type": "display_data"
    },
    {
     "name": "stdout",
     "output_type": "stream",
     "text": [
      "Validation results\n"
     ]
    },
    {
     "data": {
      "application/vnd.jupyter.widget-view+json": {
       "model_id": "fd9911b067c14b6d99ede517c87cb698",
       "version_major": 2,
       "version_minor": 0
      },
      "text/plain": [
       "HBox(children=(FloatProgress(value=0.0, max=93.0), HTML(value='')))"
      ]
     },
     "metadata": {},
     "output_type": "display_data"
    },
    {
     "name": "stdout",
     "output_type": "stream",
     "text": [
      "\n",
      "Dice metric: 0.7958641841176257\n",
      "Validation results\n"
     ]
    },
    {
     "data": {
      "application/vnd.jupyter.widget-view+json": {
       "model_id": "656ac67515b1480e8fd385f76771d2f5",
       "version_major": 2,
       "version_minor": 0
      },
      "text/plain": [
       "HBox(children=(FloatProgress(value=0.0, max=93.0), HTML(value='')))"
      ]
     },
     "metadata": {},
     "output_type": "display_data"
    },
    {
     "name": "stdout",
     "output_type": "stream",
     "text": [
      "\n",
      "Dice metric: 0.7845329648689036\n",
      "\n",
      "Loss: 0.1923256814730619\n"
     ]
    },
    {
     "data": {
      "application/vnd.jupyter.widget-view+json": {
       "model_id": "c54938e022ed43bba7017e91ab83605f",
       "version_major": 2,
       "version_minor": 0
      },
      "text/plain": [
       "HBox(children=(FloatProgress(value=0.0, max=276.0), HTML(value='')))"
      ]
     },
     "metadata": {},
     "output_type": "display_data"
    },
    {
     "name": "stdout",
     "output_type": "stream",
     "text": [
      "\n",
      "Dice metric: 0.6326620642190476\n",
      "Validation results\n"
     ]
    },
    {
     "data": {
      "application/vnd.jupyter.widget-view+json": {
       "model_id": "ee4b4f3a581340bb91c58dc9cc029a14",
       "version_major": 2,
       "version_minor": 0
      },
      "text/plain": [
       "HBox(children=(FloatProgress(value=0.0, max=93.0), HTML(value='')))"
      ]
     },
     "metadata": {},
     "output_type": "display_data"
    },
    {
     "name": "stdout",
     "output_type": "stream",
     "text": [
      "\n",
      "Dice metric: 0.7858380579227384\n"
     ]
    },
    {
     "data": {
      "application/vnd.jupyter.widget-view+json": {
       "model_id": "91066609db1f40d9b5ba16ae6bd91000",
       "version_major": 2,
       "version_minor": 0
      },
      "text/plain": [
       "HBox(children=(FloatProgress(value=0.0, max=2829.0), HTML(value='')))"
      ]
     },
     "metadata": {},
     "output_type": "display_data"
    },
    {
     "name": "stdout",
     "output_type": "stream",
     "text": [
      "Validation results\n"
     ]
    },
    {
     "data": {
      "application/vnd.jupyter.widget-view+json": {
       "model_id": "6ffe9dccbc6d448fbe50ac739709ca3a",
       "version_major": 2,
       "version_minor": 0
      },
      "text/plain": [
       "HBox(children=(FloatProgress(value=0.0, max=93.0), HTML(value='')))"
      ]
     },
     "metadata": {},
     "output_type": "display_data"
    },
    {
     "name": "stdout",
     "output_type": "stream",
     "text": [
      "\n",
      "Dice metric: 0.7894764737677137\n",
      "Validation results\n"
     ]
    },
    {
     "data": {
      "application/vnd.jupyter.widget-view+json": {
       "model_id": "0b1da26431524dafad14cc850c2c681b",
       "version_major": 2,
       "version_minor": 0
      },
      "text/plain": [
       "HBox(children=(FloatProgress(value=0.0, max=93.0), HTML(value='')))"
      ]
     },
     "metadata": {},
     "output_type": "display_data"
    },
    {
     "name": "stdout",
     "output_type": "stream",
     "text": [
      "\n",
      "Dice metric: 0.7380390801841978\n",
      "\n",
      "Loss: 0.18577033267950777\n"
     ]
    },
    {
     "data": {
      "application/vnd.jupyter.widget-view+json": {
       "model_id": "68eaf94594dc445b913d84628462d3ae",
       "version_major": 2,
       "version_minor": 0
      },
      "text/plain": [
       "HBox(children=(FloatProgress(value=0.0, max=276.0), HTML(value='')))"
      ]
     },
     "metadata": {},
     "output_type": "display_data"
    },
    {
     "name": "stdout",
     "output_type": "stream",
     "text": [
      "\n",
      "Dice metric: 0.6149982408548104\n",
      "Validation results\n"
     ]
    },
    {
     "data": {
      "application/vnd.jupyter.widget-view+json": {
       "model_id": "651caa3ec89b490d818a8fe14b44a898",
       "version_major": 2,
       "version_minor": 0
      },
      "text/plain": [
       "HBox(children=(FloatProgress(value=0.0, max=93.0), HTML(value='')))"
      ]
     },
     "metadata": {},
     "output_type": "display_data"
    },
    {
     "name": "stdout",
     "output_type": "stream",
     "text": [
      "\n",
      "Dice metric: 0.7516353886363797\n"
     ]
    },
    {
     "data": {
      "application/vnd.jupyter.widget-view+json": {
       "model_id": "0ffc295905b44b4d89ee535f6f615592",
       "version_major": 2,
       "version_minor": 0
      },
      "text/plain": [
       "HBox(children=(FloatProgress(value=0.0, max=2829.0), HTML(value='')))"
      ]
     },
     "metadata": {},
     "output_type": "display_data"
    },
    {
     "name": "stdout",
     "output_type": "stream",
     "text": [
      "Validation results\n"
     ]
    },
    {
     "data": {
      "application/vnd.jupyter.widget-view+json": {
       "model_id": "31a2471de68549309174b91f963fc239",
       "version_major": 2,
       "version_minor": 0
      },
      "text/plain": [
       "HBox(children=(FloatProgress(value=0.0, max=93.0), HTML(value='')))"
      ]
     },
     "metadata": {},
     "output_type": "display_data"
    },
    {
     "name": "stdout",
     "output_type": "stream",
     "text": [
      "\n",
      "Dice metric: 0.818274645826317\n",
      "Validation results\n"
     ]
    },
    {
     "data": {
      "application/vnd.jupyter.widget-view+json": {
       "model_id": "dae6a9db97374aa486ce34840aadcddb",
       "version_major": 2,
       "version_minor": 0
      },
      "text/plain": [
       "HBox(children=(FloatProgress(value=0.0, max=93.0), HTML(value='')))"
      ]
     },
     "metadata": {},
     "output_type": "display_data"
    },
    {
     "name": "stdout",
     "output_type": "stream",
     "text": [
      "\n",
      "Dice metric: 0.7749837213474128\n",
      "\n",
      "Loss: 0.18407736468281685\n"
     ]
    },
    {
     "data": {
      "application/vnd.jupyter.widget-view+json": {
       "model_id": "2fff532f30bb4ea294be85369c4d35d8",
       "version_major": 2,
       "version_minor": 0
      },
      "text/plain": [
       "HBox(children=(FloatProgress(value=0.0, max=276.0), HTML(value='')))"
      ]
     },
     "metadata": {},
     "output_type": "display_data"
    },
    {
     "name": "stdout",
     "output_type": "stream",
     "text": [
      "\n",
      "Dice metric: 0.6365920554741243\n",
      "Validation results\n"
     ]
    },
    {
     "data": {
      "application/vnd.jupyter.widget-view+json": {
       "model_id": "b60331be33f349ed90e02942bd2245c4",
       "version_major": 2,
       "version_minor": 0
      },
      "text/plain": [
       "HBox(children=(FloatProgress(value=0.0, max=93.0), HTML(value='')))"
      ]
     },
     "metadata": {},
     "output_type": "display_data"
    },
    {
     "name": "stdout",
     "output_type": "stream",
     "text": [
      "\n",
      "Dice metric: 0.7744116103750953\n"
     ]
    },
    {
     "data": {
      "application/vnd.jupyter.widget-view+json": {
       "model_id": "3e7c8266479b4d758af54514c29b1d8a",
       "version_major": 2,
       "version_minor": 0
      },
      "text/plain": [
       "HBox(children=(FloatProgress(value=0.0, max=2829.0), HTML(value='')))"
      ]
     },
     "metadata": {},
     "output_type": "display_data"
    },
    {
     "name": "stdout",
     "output_type": "stream",
     "text": [
      "Validation results\n"
     ]
    },
    {
     "data": {
      "application/vnd.jupyter.widget-view+json": {
       "model_id": "4384e837126f4dc184879df9ce5de0df",
       "version_major": 2,
       "version_minor": 0
      },
      "text/plain": [
       "HBox(children=(FloatProgress(value=0.0, max=93.0), HTML(value='')))"
      ]
     },
     "metadata": {},
     "output_type": "display_data"
    },
    {
     "name": "stdout",
     "output_type": "stream",
     "text": [
      "\n",
      "Dice metric: 0.8181287324193786\n",
      "Validation results\n"
     ]
    },
    {
     "data": {
      "application/vnd.jupyter.widget-view+json": {
       "model_id": "1e07f4bbd24d4a359a37a0292884de7d",
       "version_major": 2,
       "version_minor": 0
      },
      "text/plain": [
       "HBox(children=(FloatProgress(value=0.0, max=93.0), HTML(value='')))"
      ]
     },
     "metadata": {},
     "output_type": "display_data"
    },
    {
     "name": "stdout",
     "output_type": "stream",
     "text": [
      "\n",
      "Dice metric: 0.7865332327213408\n",
      "\n",
      "Loss: 0.17934943221896094\n"
     ]
    },
    {
     "data": {
      "application/vnd.jupyter.widget-view+json": {
       "model_id": "bcc134e2cbfc49dabe8a3a649013562c",
       "version_major": 2,
       "version_minor": 0
      },
      "text/plain": [
       "HBox(children=(FloatProgress(value=0.0, max=276.0), HTML(value='')))"
      ]
     },
     "metadata": {},
     "output_type": "display_data"
    },
    {
     "name": "stdout",
     "output_type": "stream",
     "text": [
      "\n",
      "Dice metric: 0.6538078862752534\n",
      "Validation results\n"
     ]
    },
    {
     "data": {
      "application/vnd.jupyter.widget-view+json": {
       "model_id": "775dbbd20aba45839de430e36fbe0ef4",
       "version_major": 2,
       "version_minor": 0
      },
      "text/plain": [
       "HBox(children=(FloatProgress(value=0.0, max=93.0), HTML(value='')))"
      ]
     },
     "metadata": {},
     "output_type": "display_data"
    },
    {
     "name": "stdout",
     "output_type": "stream",
     "text": [
      "\n",
      "Dice metric: 0.7831650383245404\n"
     ]
    },
    {
     "data": {
      "application/vnd.jupyter.widget-view+json": {
       "model_id": "1e20b141b365481381c66d70da1c8b1b",
       "version_major": 2,
       "version_minor": 0
      },
      "text/plain": [
       "HBox(children=(FloatProgress(value=0.0, max=2829.0), HTML(value='')))"
      ]
     },
     "metadata": {},
     "output_type": "display_data"
    },
    {
     "name": "stdout",
     "output_type": "stream",
     "text": [
      "Validation results\n"
     ]
    },
    {
     "data": {
      "application/vnd.jupyter.widget-view+json": {
       "model_id": "76ec2293a9504637982020016359ee8e",
       "version_major": 2,
       "version_minor": 0
      },
      "text/plain": [
       "HBox(children=(FloatProgress(value=0.0, max=93.0), HTML(value='')))"
      ]
     },
     "metadata": {},
     "output_type": "display_data"
    },
    {
     "name": "stdout",
     "output_type": "stream",
     "text": [
      "\n",
      "Dice metric: 0.8076483264521571\n",
      "Validation results\n"
     ]
    },
    {
     "data": {
      "application/vnd.jupyter.widget-view+json": {
       "model_id": "7c162a825dac492d82fec24dffd477d6",
       "version_major": 2,
       "version_minor": 0
      },
      "text/plain": [
       "HBox(children=(FloatProgress(value=0.0, max=93.0), HTML(value='')))"
      ]
     },
     "metadata": {},
     "output_type": "display_data"
    },
    {
     "name": "stdout",
     "output_type": "stream",
     "text": [
      "\n",
      "Dice metric: 0.7916779151511195\n",
      "\n",
      "Loss: 0.17356598634706474\n"
     ]
    },
    {
     "data": {
      "application/vnd.jupyter.widget-view+json": {
       "model_id": "1daa11f21d914ca69d51f030ee8f4f26",
       "version_major": 2,
       "version_minor": 0
      },
      "text/plain": [
       "HBox(children=(FloatProgress(value=0.0, max=276.0), HTML(value='')))"
      ]
     },
     "metadata": {},
     "output_type": "display_data"
    },
    {
     "name": "stdout",
     "output_type": "stream",
     "text": [
      "\n",
      "Dice metric: 0.6606948464005874\n",
      "Validation results\n"
     ]
    },
    {
     "data": {
      "application/vnd.jupyter.widget-view+json": {
       "model_id": "dd0c474311514dbc8cb496eb7d89c5c4",
       "version_major": 2,
       "version_minor": 0
      },
      "text/plain": [
       "HBox(children=(FloatProgress(value=0.0, max=93.0), HTML(value='')))"
      ]
     },
     "metadata": {},
     "output_type": "display_data"
    },
    {
     "name": "stdout",
     "output_type": "stream",
     "text": [
      "\n",
      "Dice metric: 0.7958849176548626\n"
     ]
    },
    {
     "data": {
      "application/vnd.jupyter.widget-view+json": {
       "model_id": "faecc3aa7b5b4f27b436eed57e190f7f",
       "version_major": 2,
       "version_minor": 0
      },
      "text/plain": [
       "HBox(children=(FloatProgress(value=0.0, max=2829.0), HTML(value='')))"
      ]
     },
     "metadata": {},
     "output_type": "display_data"
    },
    {
     "name": "stdout",
     "output_type": "stream",
     "text": [
      "Validation results\n"
     ]
    },
    {
     "data": {
      "application/vnd.jupyter.widget-view+json": {
       "model_id": "6ba7b6715b0143048a06e1dd57a17838",
       "version_major": 2,
       "version_minor": 0
      },
      "text/plain": [
       "HBox(children=(FloatProgress(value=0.0, max=93.0), HTML(value='')))"
      ]
     },
     "metadata": {},
     "output_type": "display_data"
    },
    {
     "name": "stdout",
     "output_type": "stream",
     "text": [
      "\n",
      "Dice metric: 0.833494454928747\n",
      "Validation results\n"
     ]
    },
    {
     "data": {
      "application/vnd.jupyter.widget-view+json": {
       "model_id": "b35061a69e0a44829832e4d0783aabf7",
       "version_major": 2,
       "version_minor": 0
      },
      "text/plain": [
       "HBox(children=(FloatProgress(value=0.0, max=93.0), HTML(value='')))"
      ]
     },
     "metadata": {},
     "output_type": "display_data"
    },
    {
     "name": "stdout",
     "output_type": "stream",
     "text": [
      "\n",
      "Dice metric: 0.8212625701722256\n",
      "\n",
      "Loss: 0.17181866041908425\n"
     ]
    },
    {
     "data": {
      "application/vnd.jupyter.widget-view+json": {
       "model_id": "107a3aed2ca4449daf02ecfe36e17341",
       "version_major": 2,
       "version_minor": 0
      },
      "text/plain": [
       "HBox(children=(FloatProgress(value=0.0, max=276.0), HTML(value='')))"
      ]
     },
     "metadata": {},
     "output_type": "display_data"
    },
    {
     "name": "stdout",
     "output_type": "stream",
     "text": [
      "\n",
      "Dice metric: 0.6684399790124225\n",
      "Validation results\n"
     ]
    },
    {
     "data": {
      "application/vnd.jupyter.widget-view+json": {
       "model_id": "669a0d83f9d641ed944b70dd08fc02bd",
       "version_major": 2,
       "version_minor": 0
      },
      "text/plain": [
       "HBox(children=(FloatProgress(value=0.0, max=93.0), HTML(value='')))"
      ]
     },
     "metadata": {},
     "output_type": "display_data"
    },
    {
     "name": "stdout",
     "output_type": "stream",
     "text": [
      "\n",
      "Dice metric: 0.8236223101204263\n"
     ]
    }
   ],
   "source": [
    "df_train_temp = df_train[(df_train[\"SLICE\"] > 15) & (df_train[\"SLICE\"] < 139)]\n",
    "Data_Train = DataLoader(MRI_Dataloader(df_train_temp, transform_train), \n",
    "                  batch_size = 12)\n",
    "Epochs = 10\n",
    "lr = 1e-4\n",
    "Optimizer = optim.Adam(UNet.parameters(), lr = lr)\n",
    "patience = 3\n",
    "factor = 0.1\n",
    "threshold = 0.01\n",
    "LR_Scheduler = optim.lr_scheduler.ReduceLROnPlateau(Optimizer, patience = patience, threshold = threshold)\n",
    "print(f\"Start training for {Epochs} epochs.\")\n",
    "Loss = nn.BCELoss()\n",
    "with mlflow.start_run(): \n",
    "    log_param(\"Model\", \"U-Net\")\n",
    "    log_param(\"Data Aug\", \"False\")\n",
    "    log_param(\"Init Features\", 32)\n",
    "    log_param(\"Pretrained\", \"False\")\n",
    "    log_param(\"Total Epochs\", Epochs)\n",
    "    log_param(\"Learning Rate\", lr)\n",
    "    log_param(\"Loss\", \"Dice Loss\")\n",
    "    log_param(\"Metric\", \"Dice\")\n",
    "    log_param(\"Optimizer\", \"Adam\")\n",
    "    log_param(\"Batch Size Train\", 12)\n",
    "    log_param('Slices', '15 - 139')\n",
    "    log_param(\"Learning Rate Scheduler\", \"Reduce LR on Plateau\")\n",
    "    log_param(\"Learning Rate Scheduler Patience\", patience)\n",
    "    log_param(\"Learning Rate Scheduler Monitor\", \"Validation Loss\")\n",
    "    log_param(\"Learning Rate Scheduler Threshold\", threshold)\n",
    "    log_param(\"Factor\", factor)\n",
    "    log_model(UNet, \"Models Original\")\n",
    "    salvar = np.zeros((10, 123, 240, 240))\n",
    "    salvar1 = np.zeros((10, 123, 240, 240))\n",
    "    \n",
    "    internal_counter = 0\n",
    "    internal_counter_1 = 0\n",
    "    for e in range(Epochs):\n",
    "        Total_Loss_Train = 0\n",
    "#         Total_Loss = 0\n",
    "        Dice_Score = 0\n",
    "        Dice_Score_Channel = np.zeros(1)\n",
    "        \n",
    "        for x, y in tqdm_notebook(Data_Train):\n",
    "            x, y = x.to(\"cuda:0\"), y.to(\"cuda:0\")\n",
    "            Optimizer.zero_grad()\n",
    "            y_predicted = UNet(x)\n",
    "#             Loss_Value = 1 - soft_dice(y_predicted, y)[0]\n",
    "            Loss_Value = 1 - soft_dice(y_predicted, y)\n",
    "#             Loss_Value = Loss(y_predicted, y)\n",
    "            Loss_Value.backward()\n",
    "            Optimizer.step()\n",
    "            Total_Loss_Train = Total_Loss_Train + Loss_Value.item()       \n",
    "            internal_counter = internal_counter + 1\n",
    "            if (internal_counter % 1414 == 0):  \n",
    "                print(\"Validation results\")\n",
    "                dice = 0\n",
    "                Total_Loss = 0\n",
    "                for kk in tqdm_notebook(df_test[\"VOLUME\"].unique()):\n",
    "                    df_test_temp = df_test[(df_test[\"VOLUME\"] == kk) & (df_test[\"SLICE\"] > 15) & (df_test[\"SLICE\"] < 139)].reset_index(drop = True)        \n",
    "                    x_list_values = np.zeros((123, 1, 240, 240))\n",
    "                    y_list_values = np.zeros((123, 1, 240, 240))\n",
    "                    yt_list_values = np.zeros((123, 1, 240, 240))\n",
    "                    for j in range(123):\n",
    "                        df_test_temp_1 = df_test_temp[df_test_temp[\"SLICE\"] == j + 16].reset_index(drop = True)\n",
    "                        Data_Test_Temp = DataLoader(MRI_Dataloader(df_test_temp_1, transform_val), batch_size = 1)\n",
    "                        for x, y in Data_Test_Temp:\n",
    "                            x, y = x.to(\"cuda:0\"), y.to(\"cuda:0\")\n",
    "                            y_predicted = UNet(x)\n",
    "                            Loss_Value = 1 - soft_dice(y_predicted, y)\n",
    "#                             Loss_Value = Loss(y_predicted, y)\n",
    "                            Total_Loss = Total_Loss + Loss_Value.item()       \n",
    "                        x_list_values[j] = x.cpu().numpy()\n",
    "                        y_list_values[j] = y.cpu().numpy()\n",
    "                        yt_list_values[j] = y_predicted.detach().cpu().numpy()\n",
    "                    dice = dice + dice_metric(y_list_values, yt_list_values)\n",
    "                print(\"Dice metric:\", dice/93)\n",
    "                log_metric(\"Loss Validation - 4X\", Total_Loss/df_test.shape[0], step = internal_counter_1)\n",
    "                log_metric(\"Dice Validation Mean - 4X\", dice/93, step = internal_counter_1)                \n",
    "                internal_counter_1 = internal_counter_1 + 1   \n",
    "        print(\"Loss:\", 12*Total_Loss_Train/df_train.shape[0])\n",
    "        dice = 0\n",
    "        for count, kk in enumerate(tqdm_notebook(df_train[\"VOLUME\"].unique())):\n",
    "            df_train_temp = df_train[(df_train[\"VOLUME\"] == kk) & (df_train[\"SLICE\"] > 15) & (df_train[\"SLICE\"] < 139)].reset_index(drop = True)\n",
    "            x_list_values = np.zeros((123, 1, 240, 240))\n",
    "            y_list_values = np.zeros((123, 1, 240, 240))\n",
    "            yt_list_values = np.zeros((123, 1, 240, 240))\n",
    "            for j in range(123):\n",
    "                df_train_temp_1 = df_train_temp[df_train_temp[\"SLICE\"] == j + 16].reset_index(drop = True)\n",
    "                Data_Train_Temp = DataLoader(MRI_Dataloader(df_train_temp_1, transform_train), batch_size = 1)\n",
    "                for x, y in Data_Train_Temp:\n",
    "                    x, y = x.to(\"cuda:0\"), y.to(\"cuda:0\")\n",
    "                    y_predicted = UNet(x)\n",
    "                x_list_values[j] = x.cpu().numpy()\n",
    "                y_list_values[j] = y.cpu().numpy()\n",
    "                yt_list_values[j] = y_predicted.detach().cpu().numpy()\n",
    "                if count < 10:\n",
    "                    salvar[count, j] = y_predicted.detach().cpu().numpy()\n",
    "                    salvar1[count, j] = y.cpu().numpy()\n",
    "            dice = dice + dice_metric(y_list_values, yt_list_values)\n",
    "        print(\"Dice metric:\", dice/276)\n",
    "        Total_Loss = 12*Total_Loss_Train/df_train.shape[0]\n",
    "        log_metric(\"Loss Train\", Total_Loss, step = e)\n",
    "        log_metric(\"Dice Train Mean\", dice/276, step = e)                \n",
    "        print(\"Validation results\")\n",
    "        dice = 0\n",
    "        Total_Loss = 0\n",
    "        for kk in tqdm_notebook(df_test[\"VOLUME\"].unique()):\n",
    "            df_test_temp = df_test[(df_test[\"VOLUME\"] == kk) & (df_test[\"SLICE\"] > 15) & (df_test[\"SLICE\"] < 139)].reset_index(drop = True)\n",
    "            x_list_values = np.zeros((123, 1, 240, 240))\n",
    "            y_list_values = np.zeros((123, 1, 240, 240))\n",
    "            yt_list_values = np.zeros((123, 1, 240, 240))\n",
    "            for j in range(123):\n",
    "                df_test_temp_1 = df_test_temp[df_test_temp[\"SLICE\"] == j + 16].reset_index(drop = True)\n",
    "                Data_Test_Temp = DataLoader(MRI_Dataloader(df_test_temp_1, transform_val), batch_size = 1)\n",
    "                for x, y in Data_Test_Temp:\n",
    "                    x, y = x.to(\"cuda:0\"), y.to(\"cuda:0\")\n",
    "                    y_predicted = UNet(x)\n",
    "                    Loss_Value = 1 - soft_dice(y_predicted, y)\n",
    "#                     Loss_Value = Loss(y_predicted, y)\n",
    "                    Total_Loss = Total_Loss + Loss_Value.item()       \n",
    "                x_list_values[j] = x.cpu().numpy()\n",
    "                y_list_values[j] = y.cpu().numpy()\n",
    "                yt_list_values[j] = y_predicted.detach().cpu().numpy()\n",
    "            dice = dice + dice_metric(y_list_values, yt_list_values)\n",
    "        print(\"Dice metric:\", dice/93)\n",
    "        log_metric(\"Loss Validation\", Total_Loss/df_test.shape[0], step = e)\n",
    "        log_metric(\"Dice Validation Mean\", dice/93, step = e)                \n",
    "        LR_Scheduler.step(Total_Loss)    \n",
    "        for i in Optimizer.param_groups:\n",
    "            lr_s = i[\"lr\"]\n",
    "        log_metric(\"Learning Rate\", lr_s, step = e)  \n",
    "    log_model(UNet, \"Models Trained\")"
   ]
  },
  {
   "cell_type": "code",
   "execution_count": 523,
   "metadata": {},
   "outputs": [],
   "source": [
    "transform_train = A.Compose([\n",
    "        A.Rotate((-20, 20)),\n",
    "        A.RandomBrightness(),\n",
    "        A.HorizontalFlip(),\n",
    "        A.VerticalFlip(),\n",
    "        A.ElasticTransform(720, 50),\n",
    "        A.Normalize(0, 1),\n",
    "], p=1)\n"
   ]
  },
  {
   "cell_type": "code",
   "execution_count": 524,
   "metadata": {},
   "outputs": [],
   "source": [
    " %%capture\n",
    "UNet = torch.hub.load('mateuszbuda/brain-segmentation-pytorch', 'unet',\n",
    "                      in_channels = 1, \n",
    "                      out_channels = 1, \n",
    "                      init_features = 32, \n",
    "                      pretrained = False).to(\"cuda:0\")"
   ]
  },
  {
   "cell_type": "code",
   "execution_count": null,
   "metadata": {},
   "outputs": [
    {
     "name": "stdout",
     "output_type": "stream",
     "text": [
      "Start training for 10 epochs.\n"
     ]
    },
    {
     "data": {
      "application/vnd.jupyter.widget-view+json": {
       "model_id": "b31a1bfbb8154f68b69971c551d4b0a6",
       "version_major": 2,
       "version_minor": 0
      },
      "text/plain": [
       "HBox(children=(FloatProgress(value=0.0, max=2829.0), HTML(value='')))"
      ]
     },
     "metadata": {},
     "output_type": "display_data"
    }
   ],
   "source": [
    "df_train_temp = df_train[(df_train[\"SLICE\"] > 15) & (df_train[\"SLICE\"] < 139)]\n",
    "Data_Train = DataLoader(MRI_Dataloader(df_train_temp, transform_train), \n",
    "                  batch_size = 12)\n",
    "Epochs = 10\n",
    "lr = 1e-4\n",
    "Optimizer = optim.Adam(UNet.parameters(), lr = lr)\n",
    "patience = 3\n",
    "factor = 0.1\n",
    "threshold = 0.01\n",
    "LR_Scheduler = optim.lr_scheduler.ReduceLROnPlateau(Optimizer, patience = patience, threshold = threshold)\n",
    "print(f\"Start training for {Epochs} epochs.\")\n",
    "Loss = nn.BCELoss()\n",
    "with mlflow.start_run(): \n",
    "    log_param(\"Model\", \"U-Net\")\n",
    "    log_param(\"Data Aug\", \"False\")\n",
    "    log_param(\"Init Features\", 32)\n",
    "    log_param(\"Pretrained\", \"False\")\n",
    "    log_param(\"Total Epochs\", Epochs)\n",
    "    log_param(\"Learning Rate\", lr)\n",
    "    log_param(\"Loss\", \"Dice Loss\")\n",
    "    log_param(\"Metric\", \"Dice\")\n",
    "    log_param(\"Optimizer\", \"Adam\")\n",
    "    log_param(\"Batch Size Train\", 12)\n",
    "    log_param('Slices', '15 - 139')\n",
    "    log_param(\"Learning Rate Scheduler\", \"Reduce LR on Plateau\")\n",
    "    log_param(\"Learning Rate Scheduler Patience\", patience)\n",
    "    log_param(\"Learning Rate Scheduler Monitor\", \"Validation Loss\")\n",
    "    log_param(\"Learning Rate Scheduler Threshold\", threshold)\n",
    "    log_param(\"Factor\", factor)\n",
    "    log_model(UNet, \"Models Original\")\n",
    "    salvar = np.zeros((10, 123, 240, 240))\n",
    "    salvar1 = np.zeros((10, 123, 240, 240))\n",
    "    \n",
    "    internal_counter = 0\n",
    "    internal_counter_1 = 0\n",
    "    for e in range(Epochs):\n",
    "        Total_Loss_Train = 0\n",
    "#         Total_Loss = 0\n",
    "        Dice_Score = 0\n",
    "        Dice_Score_Channel = np.zeros(1)\n",
    "        \n",
    "        for x, y in tqdm_notebook(Data_Train):\n",
    "            x, y = x.to(\"cuda:0\"), y.to(\"cuda:0\")\n",
    "            Optimizer.zero_grad()\n",
    "            y_predicted = UNet(x)\n",
    "#             Loss_Value = 1 - soft_dice(y_predicted, y)[0]\n",
    "            Loss_Value = 1 - soft_dice(y_predicted, y)\n",
    "#             Loss_Value = Loss(y_predicted, y)\n",
    "            Loss_Value.backward()\n",
    "            Optimizer.step()\n",
    "            Total_Loss_Train = Total_Loss_Train + Loss_Value.item()       \n",
    "            internal_counter = internal_counter + 1\n",
    "            if (internal_counter % 1414 == 0):  \n",
    "                print(\"Validation results\")\n",
    "                dice = 0\n",
    "                Total_Loss = 0\n",
    "                for kk in tqdm_notebook(df_test[\"VOLUME\"].unique()):\n",
    "                    df_test_temp = df_test[(df_test[\"VOLUME\"] == kk) & (df_test[\"SLICE\"] > 15) & (df_test[\"SLICE\"] < 139)].reset_index(drop = True)        \n",
    "                    x_list_values = np.zeros((123, 1, 240, 240))\n",
    "                    y_list_values = np.zeros((123, 1, 240, 240))\n",
    "                    yt_list_values = np.zeros((123, 1, 240, 240))\n",
    "                    for j in range(123):\n",
    "                        df_test_temp_1 = df_test_temp[df_test_temp[\"SLICE\"] == j + 16].reset_index(drop = True)\n",
    "                        Data_Test_Temp = DataLoader(MRI_Dataloader(df_test_temp_1, transform_val), batch_size = 1)\n",
    "                        for x, y in Data_Test_Temp:\n",
    "                            x, y = x.to(\"cuda:0\"), y.to(\"cuda:0\")\n",
    "                            y_predicted = UNet(x)\n",
    "                            Loss_Value = 1 - soft_dice(y_predicted, y)\n",
    "#                             Loss_Value = Loss(y_predicted, y)\n",
    "                            Total_Loss = Total_Loss + Loss_Value.item()       \n",
    "                        x_list_values[j] = x.cpu().numpy()\n",
    "                        y_list_values[j] = y.cpu().numpy()\n",
    "                        yt_list_values[j] = y_predicted.detach().cpu().numpy()\n",
    "                    dice = dice + dice_metric(y_list_values, yt_list_values)\n",
    "                print(\"Dice metric:\", dice/93)\n",
    "                log_metric(\"Loss Validation - 4X\", Total_Loss/df_test.shape[0], step = internal_counter_1)\n",
    "                log_metric(\"Dice Validation Mean - 4X\", dice/93, step = internal_counter_1)                \n",
    "                internal_counter_1 = internal_counter_1 + 1   \n",
    "        print(\"Loss:\", 12*Total_Loss_Train/df_train.shape[0])\n",
    "        dice = 0\n",
    "        for count, kk in enumerate(tqdm_notebook(df_train[\"VOLUME\"].unique())):\n",
    "            df_train_temp = df_train[(df_train[\"VOLUME\"] == kk) & (df_train[\"SLICE\"] > 15) & (df_train[\"SLICE\"] < 139)].reset_index(drop = True)\n",
    "            x_list_values = np.zeros((123, 1, 240, 240))\n",
    "            y_list_values = np.zeros((123, 1, 240, 240))\n",
    "            yt_list_values = np.zeros((123, 1, 240, 240))\n",
    "            for j in range(123):\n",
    "                df_train_temp_1 = df_train_temp[df_train_temp[\"SLICE\"] == j + 16].reset_index(drop = True)\n",
    "                Data_Train_Temp = DataLoader(MRI_Dataloader(df_train_temp_1, transform_train), batch_size = 1)\n",
    "                for x, y in Data_Train_Temp:\n",
    "                    x, y = x.to(\"cuda:0\"), y.to(\"cuda:0\")\n",
    "                    y_predicted = UNet(x)\n",
    "                x_list_values[j] = x.cpu().numpy()\n",
    "                y_list_values[j] = y.cpu().numpy()\n",
    "                yt_list_values[j] = y_predicted.detach().cpu().numpy()\n",
    "                if count < 10:\n",
    "                    salvar[count, j] = y_predicted.detach().cpu().numpy()\n",
    "                    salvar1[count, j] = y.cpu().numpy()\n",
    "            dice = dice + dice_metric(y_list_values, yt_list_values)\n",
    "        print(\"Dice metric:\", dice/276)\n",
    "        Total_Loss = 12*Total_Loss_Train/df_train.shape[0]\n",
    "        log_metric(\"Loss Train\", Total_Loss, step = e)\n",
    "        log_metric(\"Dice Train Mean\", dice/276, step = e)                \n",
    "        print(\"Validation results\")\n",
    "        dice = 0\n",
    "        Total_Loss = 0\n",
    "        for kk in tqdm_notebook(df_test[\"VOLUME\"].unique()):\n",
    "            df_test_temp = df_test[(df_test[\"VOLUME\"] == kk) & (df_test[\"SLICE\"] > 15) & (df_test[\"SLICE\"] < 139)].reset_index(drop = True)\n",
    "            x_list_values = np.zeros((123, 1, 240, 240))\n",
    "            y_list_values = np.zeros((123, 1, 240, 240))\n",
    "            yt_list_values = np.zeros((123, 1, 240, 240))\n",
    "            for j in range(123):\n",
    "                df_test_temp_1 = df_test_temp[df_test_temp[\"SLICE\"] == j + 16].reset_index(drop = True)\n",
    "                Data_Test_Temp = DataLoader(MRI_Dataloader(df_test_temp_1, transform_val), batch_size = 1)\n",
    "                for x, y in Data_Test_Temp:\n",
    "                    x, y = x.to(\"cuda:0\"), y.to(\"cuda:0\")\n",
    "                    y_predicted = UNet(x)\n",
    "                    Loss_Value = 1 - soft_dice(y_predicted, y)\n",
    "#                     Loss_Value = Loss(y_predicted, y)\n",
    "                    Total_Loss = Total_Loss + Loss_Value.item()       \n",
    "                x_list_values[j] = x.cpu().numpy()\n",
    "                y_list_values[j] = y.cpu().numpy()\n",
    "                yt_list_values[j] = y_predicted.detach().cpu().numpy()\n",
    "            dice = dice + dice_metric(y_list_values, yt_list_values)\n",
    "        print(\"Dice metric:\", dice/93)\n",
    "        log_metric(\"Loss Validation\", Total_Loss/df_test.shape[0], step = e)\n",
    "        log_metric(\"Dice Validation Mean\", dice/93, step = e)                \n",
    "        LR_Scheduler.step(Total_Loss)    \n",
    "        for i in Optimizer.param_groups:\n",
    "            lr_s = i[\"lr\"]\n",
    "        log_metric(\"Learning Rate\", lr_s, step = e)  \n",
    "    log_model(UNet, \"Models Trained\")"
   ]
  }
 ],
 "metadata": {
  "kernelspec": {
   "display_name": "Python 3",
   "language": "python",
   "name": "python3"
  },
  "language_info": {
   "codemirror_mode": {
    "name": "ipython",
    "version": 3
   },
   "file_extension": ".py",
   "mimetype": "text/x-python",
   "name": "python",
   "nbconvert_exporter": "python",
   "pygments_lexer": "ipython3",
   "version": "3.8.3"
  }
 },
 "nbformat": 4,
 "nbformat_minor": 2
}
